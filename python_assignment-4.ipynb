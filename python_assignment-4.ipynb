{
 "cells": [
  {
   "cell_type": "code",
   "execution_count": null,
   "metadata": {},
   "outputs": [],
   "source": [
    "class triangle:\n",
    "    def __init__(self,a,b,c):\n",
    "        self.a = a\n",
    "        self.b = b\n",
    "        self.c = c\n",
    "\n",
    "a= int(input('enter a '))\n",
    "b = int(input('enter b '))\n",
    "c = int(input('enter c '))\n",
    "\n",
    "class area(triangle):\n",
    "    def __init__(self,a,b,c):\n",
    "        super().__init__(a,b,c)\n",
    "    \n",
    "    def display(self):\n",
    "        s = (a+b+c)/2\n",
    "        return (s*(s-a)*(s-b)*(s-c))**0.5\n",
    "        \n",
    "are = area(a,b,c)\n",
    "\n",
    "print('area of triangle: {}'.format(are.display()))\n",
    "\n",
    "        "
   ]
  },
  {
   "cell_type": "code",
   "execution_count": null,
   "metadata": {},
   "outputs": [],
   "source": [
    "list_of_words= [x for x in input('enter the words you want to store : ').split()]\n",
    "n = int(input('enter the number to check with the length of letters '))\n",
    "\n",
    "def filter_long_words(list_of_words,n):\n",
    "    for i in list_of_words:\n",
    "        \n",
    "        \n",
    "        \n",
    "        if len(i) > n:\n",
    "            print(i+' letter is greater than '+ str(n))\n",
    "            \n",
    "             \n",
    "        else: \n",
    "            print(i +' letter is lesser than '+ str(n))\n",
    "\n",
    "filter_long_words(list_of_words,n)\n",
    "    \n",
    "    "
   ]
  },
  {
   "cell_type": "code",
   "execution_count": 4,
   "metadata": {},
   "outputs": [
    {
     "name": "stdout",
     "output_type": "stream",
     "text": [
      "enter the words you want to store : deva teju\n",
      "enter the number to cheack with words: 3\n"
     ]
    },
    {
     "data": {
      "text/plain": [
       "['deva', 'teju']"
      ]
     },
     "execution_count": 4,
     "metadata": {},
     "output_type": "execute_result"
    }
   ],
   "source": [
    "words= [x for x in input('enter the words you want to store : ').split()]\n",
    "nt = int(input('enter the number to cheack with words: '))\n",
    "def js(sw,ts):\n",
    "    return [x for x in sw if len(x) > ts]\n",
    "\n",
    "js(words,nt)\n",
    "    \n",
    " "
   ]
  },
  {
   "cell_type": "code",
   "execution_count": 6,
   "metadata": {},
   "outputs": [
    {
     "name": "stdout",
     "output_type": "stream",
     "text": [
      "enter the name you want to enter: deva teju krishna\n"
     ]
    },
    {
     "data": {
      "text/plain": [
       "[4, 4, 7]"
      ]
     },
     "execution_count": 6,
     "metadata": {},
     "output_type": "execute_result"
    }
   ],
   "source": [
    "fr = [x for x in input('enter the name you want to enter: ').split()]\n",
    "list(map(len,fr))"
   ]
  },
  {
   "cell_type": "code",
   "execution_count": 3,
   "metadata": {},
   "outputs": [
    {
     "name": "stdout",
     "output_type": "stream",
     "text": [
      "enter the letter to check whether vowel or not: g\n"
     ]
    },
    {
     "data": {
      "text/plain": [
       "False"
      ]
     },
     "execution_count": 3,
     "metadata": {},
     "output_type": "execute_result"
    }
   ],
   "source": [
    "string = input('enter the letter to check whether vowel or not: ')\n",
    "v = ['a','e','i','o','u']\n",
    "\n",
    "def vowel_or_not(ing):\n",
    "    for i in v:\n",
    "        if ing in i:\n",
    "            return True\n",
    "    else:\n",
    "        return False\n",
    "\n",
    "vowel_or_not(string)"
   ]
  },
  {
   "cell_type": "code",
   "execution_count": 2,
   "metadata": {},
   "outputs": [
    {
     "name": "stdout",
     "output_type": "stream",
     "text": [
      "enter the letter g\n",
      "[]\n"
     ]
    }
   ],
   "source": [
    "l = ['a','e','i','o','u']\n",
    "yr = input('enter the letter ')\n",
    "\n",
    "li = list(filter(lambda x: True if x == yr else False,l))\n",
    "print(li)\n"
   ]
  }
 ],
 "metadata": {
  "kernelspec": {
   "display_name": "Python 3",
   "language": "python",
   "name": "python3"
  },
  "language_info": {
   "codemirror_mode": {
    "name": "ipython",
    "version": 3
   },
   "file_extension": ".py",
   "mimetype": "text/x-python",
   "name": "python",
   "nbconvert_exporter": "python",
   "pygments_lexer": "ipython3",
   "version": "3.8.5"
  }
 },
 "nbformat": 4,
 "nbformat_minor": 4
}
